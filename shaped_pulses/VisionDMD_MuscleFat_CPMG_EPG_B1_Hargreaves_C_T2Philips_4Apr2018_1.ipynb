{
 "cells": [
  {
   "cell_type": "markdown",
   "metadata": {},
   "source": [
    "### EPG CPMG fit using shaped pulses and B<sub>1</sub> parameter fitting"
   ]
  },
  {
   "cell_type": "markdown",
   "metadata": {},
   "source": [
    "Fat T$_1$ = 365 ms,  T$_2$ = 80 ms\n",
    "\n",
    "Water T$_1$ = 1400 ms T$_2$ = 35 ms\n",
    "\n",
    "\n",
    "Benjamin Marty et al., Simultaneous muscle water T$_2$ and fat fraction mapping using transverse relaxometry with stimulated echo compensation, *NMR Biomed*. 2016; **29**: p431–443."
   ]
  },
  {
   "cell_type": "code",
   "execution_count": 1,
   "metadata": {},
   "outputs": [],
   "source": [
    "from __future__ import print_function"
   ]
  },
  {
   "cell_type": "code",
   "execution_count": 2,
   "metadata": {},
   "outputs": [],
   "source": [
    "import guidata\n",
    "_app = guidata.qapplication() # not required if a QApplication has already been created\n",
    "\n",
    "import guidata.dataset.datatypes as dt\n",
    "import guidata.dataset.dataitems as di\n",
    "import numba\n",
    "\n",
    "#import  matlab.engine"
   ]
  },
  {
   "cell_type": "code",
   "execution_count": 3,
   "metadata": {},
   "outputs": [],
   "source": [
    "#from epg import cpmg_epg as cpmg_epg_c\n",
    "from epg import cpmg_epg_b1 as cpmg_epg_b1_c\n",
    "import time"
   ]
  },
  {
   "cell_type": "code",
   "execution_count": 4,
   "metadata": {},
   "outputs": [
    {
     "name": "stderr",
     "output_type": "stream",
     "text": [
      "c:\\users\\neh69\\appdata\\local\\continuum\\anaconda3\\envs\\py36\\lib\\site-packages\\h5py\\__init__.py:36: FutureWarning: Conversion of the second argument of issubdtype from `float` to `np.floating` is deprecated. In future, it will be treated as `np.float64 == np.dtype(float).type`.\n",
      "  from ._conv import register_converters as _register_converters\n"
     ]
    }
   ],
   "source": [
    "import os\n",
    "import sys\n",
    "from string import Template\n",
    "import ijroi\n",
    "import numpy as np\n",
    "import pandas as pd\n",
    "from mpl_toolkits.mplot3d import axes3d\n",
    "import matplotlib\n",
    "from matplotlib import pyplot as plt\n",
    "\n",
    "import lmfit as lm\n",
    "#import cpmg_epg_hargreaves1 as epg\n",
    "\n",
    "import seaborn as sns\n",
    "import nibabel\n",
    "\n",
    "import collections\n",
    "from scipy import stats\n",
    "from scipy import integrate\n",
    "\n",
    "import uncertainties\n",
    "from uncertainties import unumpy\n",
    "\n",
    "\n",
    "from IPython.display import display, Markdown, Latex\n",
    "\n",
    "from skimage.draw import (line, polygon, circle,\n",
    "                          circle_perimeter,\n",
    "                          ellipse, ellipse_perimeter,\n",
    "                          bezier_curve)\n",
    "\n",
    "%matplotlib  inline"
   ]
  },
  {
   "cell_type": "code",
   "execution_count": 5,
   "metadata": {},
   "outputs": [],
   "source": [
    "# matplotlib.rc('xtick', labelsize=14) \n",
    "# matplotlib.rc('ytick', labelsize=14) \n",
    "\n",
    "SMALL_SIZE = 12\n",
    "MEDIUM_SIZE = 14\n",
    "BIGGER_SIZE = 16\n",
    "\n",
    "plt.rc('font', size=SMALL_SIZE)          # controls default text sizes\n",
    "plt.rc('axes', titlesize=SMALL_SIZE)     # fontsize of the axes title\n",
    "plt.rc('axes', labelsize=MEDIUM_SIZE)    # fontsize of the x and y labels\n",
    "plt.rc('xtick', labelsize=SMALL_SIZE)    # fontsize of the tick labels\n",
    "plt.rc('ytick', labelsize=SMALL_SIZE)    # fontsize of the tick labels\n",
    "plt.rc('legend', fontsize=SMALL_SIZE)    # legend fontsize\n",
    "plt.rc('figure', titlesize=BIGGER_SIZE)  # fontsize of the figure title"
   ]
  },
  {
   "cell_type": "code",
   "execution_count": 6,
   "metadata": {},
   "outputs": [],
   "source": [
    "class workingDirectories(dt.DataSet):\n",
    "    \"\"\"Set working processed directory\"\"\"\n",
    "    #/media/eric/70DA58715E6C32A6/visionDMD/processed_data/newcastle_test\n",
    "    procDatadir = di.DirectoryItem(\"Processed Data Directory\", 'W:/processed_data/Newcastle_test')\n",
    "    #procDatadir = di.DirectoryItem(\"Processed Data Directory\", '/media/eric/70DA58715E6C32A6/visionDMD/processed_data/newcastle_test')\n",
    "    "
   ]
  },
  {
   "cell_type": "code",
   "execution_count": 7,
   "metadata": {},
   "outputs": [],
   "source": [
    "wDirs = workingDirectories()"
   ]
  },
  {
   "cell_type": "code",
   "execution_count": 8,
   "metadata": {},
   "outputs": [
    {
     "data": {
      "text/plain": [
       "1"
      ]
     },
     "execution_count": 8,
     "metadata": {},
     "output_type": "execute_result"
    }
   ],
   "source": [
    "wDirs.edit()"
   ]
  },
  {
   "cell_type": "code",
   "execution_count": 9,
   "metadata": {},
   "outputs": [
    {
     "name": "stdout",
     "output_type": "stream",
     "text": [
      "27 0.9784729999999993\n"
     ]
    }
   ],
   "source": [
    "mxyz90 = np.fromfile( 'mxyz90.txt', sep=' ' )\n",
    "mxyz180 = np.fromfile('mxyz180.txt', sep=' ')\n",
    "\n",
    "mxyz90 = mxyz90.reshape(5,512)\n",
    "mxyz180 = mxyz180.reshape(5,512)\n",
    "\n",
    "offset=130\n",
    "step=10\n",
    "slice_xxx =mxyz90[0][offset:-offset+step:step] # mm\n",
    "p90 = mxyz90[-1][offset:-offset+step:step]     # degrees\n",
    "p180 = mxyz180[-1][offset:-offset+step:step]   # degrees\n",
    "dx=slice_xxx[1]-slice_xxx[0]\n",
    "print(len(p180),dx)"
   ]
  },
  {
   "cell_type": "code",
   "execution_count": 10,
   "metadata": {},
   "outputs": [
    {
     "data": {
      "text/plain": [
       "2062.428521125722"
      ]
     },
     "execution_count": 10,
     "metadata": {},
     "output_type": "execute_result"
    }
   ],
   "source": [
    "integrate.simps(p180, x=slice_xxx)"
   ]
  },
  {
   "cell_type": "code",
   "execution_count": 11,
   "metadata": {},
   "outputs": [
    {
     "data": {
      "image/png": "[encoded data removed]",
      "text/plain": [
       "<matplotlib.figure.Figure at 0x1b813518>"
      ]
     },
     "metadata": {},
     "output_type": "display_data"
    }
   ],
   "source": [
    "plt.plot(slice_xxx,p180, 'o', label='p180')\n",
    "plt.plot(slice_xxx,p90, 'o', label='p90')\n",
    "plt.xlabel('mm');\n",
    "plt.legend();"
   ]
  },
  {
   "cell_type": "code",
   "execution_count": 12,
   "metadata": {},
   "outputs": [],
   "source": [
    "\n",
    "def simps_eh(yyy, xxx):\n",
    "    if not len(yyy)%2:\n",
    "        print(\"length of y vector must be odd\", len(yyy)%2)\n",
    "        return(1)\n",
    "    \n",
    "    numpts = len(yyy)\n",
    "    dx = (xxx[-1]-xxx[0])/(numpts-1)\n",
    "    \n",
    "    #( 'dx = ', dx)\n",
    "    \n",
    "    #\n",
    "    \n",
    "    yfl=yyy[0]+yyy[numpts-1]\n",
    "    \n",
    "    yeven = 0.0\n",
    "    for i in range(1,numpts-1,2):\n",
    "        #print(i, end=' ')\n",
    "        yeven += 4*yyy[i]\n",
    "        \n",
    "   # print()\n",
    "    yodd=0.0\n",
    "    for i in range(2,numpts-1,2):\n",
    "        #print(i, end=' ')\n",
    "        yodd += 2*yyy[i]\n",
    "    #print()\n",
    "    \n",
    "    return( (dx/3.)*(yfl+yeven+yodd))"
   ]
  },
  {
   "cell_type": "code",
   "execution_count": 13,
   "metadata": {},
   "outputs": [
    {
     "data": {
      "text/plain": [
       "2062.428510200358"
      ]
     },
     "execution_count": 13,
     "metadata": {},
     "output_type": "execute_result"
    }
   ],
   "source": [
    "simps_eh(p180, slice_xxx)"
   ]
  },
  {
   "cell_type": "code",
   "execution_count": 14,
   "metadata": {},
   "outputs": [],
   "source": [
    "root_dir_structure = 'w:'"
   ]
  },
  {
   "cell_type": "code",
   "execution_count": 15,
   "metadata": {},
   "outputs": [
    {
     "data": {
      "text/plain": [
       "['W:', 'processed_data', 'Newcastle_test', '2801LW_H_01aug2017']"
      ]
     },
     "execution_count": 15,
     "metadata": {},
     "output_type": "execute_result"
    }
   ],
   "source": [
    "#[drive, subdir, mri_site, data_filename] = procDataDirList = wDirs.procDatadir.split('/')\n",
    "procDataDirList = wDirs.procDatadir.split('/')\n",
    "\n",
    "data_filename = procDataDirList[-1]\n",
    "mri_site = procDataDirList[-2]\n",
    "subdir = procDataDirList[-3]\n",
    "procDataDirList"
   ]
  },
  {
   "cell_type": "code",
   "execution_count": 16,
   "metadata": {},
   "outputs": [
    {
     "name": "stdout",
     "output_type": "stream",
     "text": [
      "2801LW_H_01aug2017 Newcastle_test processed_data\n"
     ]
    }
   ],
   "source": [
    "print( data_filename, mri_site, subdir)"
   ]
  },
  {
   "cell_type": "code",
   "execution_count": 17,
   "metadata": {},
   "outputs": [],
   "source": [
    "studyDataDirList = [root_dir_structure, 'study_data', mri_site, data_filename]"
   ]
  },
  {
   "cell_type": "code",
   "execution_count": 18,
   "metadata": {},
   "outputs": [],
   "source": [
    "studyDataDir =  '/'.join(studyDataDirList)"
   ]
  },
  {
   "cell_type": "code",
   "execution_count": 19,
   "metadata": {},
   "outputs": [
    {
     "data": {
      "text/plain": [
       "'w:/study_data/Newcastle_test/2801LW_H_01aug2017'"
      ]
     },
     "execution_count": 19,
     "metadata": {},
     "output_type": "execute_result"
    }
   ],
   "source": [
    "studyDataDir"
   ]
  },
  {
   "cell_type": "code",
   "execution_count": 20,
   "metadata": {},
   "outputs": [],
   "source": [
    "procDataDirList = [root_dir_structure, 'processed_data', mri_site, data_filename]\n",
    "procDataDir = '/'.join(procDataDirList)"
   ]
  },
  {
   "cell_type": "code",
   "execution_count": 21,
   "metadata": {},
   "outputs": [
    {
     "data": {
      "text/plain": [
       "'w:/processed_data/Newcastle_test/2801LW_H_01aug2017'"
      ]
     },
     "execution_count": 21,
     "metadata": {},
     "output_type": "execute_result"
    }
   ],
   "source": [
    "procDataDir"
   ]
  },
  {
   "cell_type": "code",
   "execution_count": 22,
   "metadata": {},
   "outputs": [],
   "source": [
    "procDataResultsDirList = [root_dir_structure, 'processed_data', mri_site, data_filename, 'Results']\n"
   ]
  },
  {
   "cell_type": "code",
   "execution_count": 23,
   "metadata": {},
   "outputs": [
    {
     "data": {
      "text/plain": [
       "['w:', 'processed_data', 'Newcastle_test', '2801LW_H_01aug2017', 'Results']"
      ]
     },
     "execution_count": 23,
     "metadata": {},
     "output_type": "execute_result"
    }
   ],
   "source": [
    "procDataResultsDirList"
   ]
  },
  {
   "cell_type": "code",
   "execution_count": 24,
   "metadata": {},
   "outputs": [],
   "source": [
    "procDataResultsDir = '/'.join(procDataResultsDirList)\n",
    "procDataResultsDir\n",
    "\n",
    "if not os.path.exists(procDataResultsDir):\n",
    "    os.makedirs(procDataResultsDir)"
   ]
  },
  {
   "cell_type": "code",
   "execution_count": null,
   "metadata": {},
   "outputs": [],
   "source": []
  },
  {
   "cell_type": "code",
   "execution_count": 25,
   "metadata": {},
   "outputs": [
    {
     "data": {
      "text/plain": [
       "['RoiSet_UL_slice0.zip',\n",
       " 'RoiSet_UL_slice1.zip',\n",
       " 'RoiSet_UL_slice2.zip',\n",
       " 'RoiSet_UL_slice3.zip',\n",
       " 'RoiSet_UL_slice4.zip']"
      ]
     },
     "execution_count": 25,
     "metadata": {},
     "output_type": "execute_result"
    }
   ],
   "source": [
    "roiList = [s for s in os.listdir(procDataDir) if \"zip\" in s]\n",
    "roiList"
   ]
  },
  {
   "cell_type": "code",
   "execution_count": 26,
   "metadata": {},
   "outputs": [
    {
     "data": {
      "text/plain": [
       "(256, 256, 5, 17)"
      ]
     },
     "execution_count": 26,
     "metadata": {},
     "output_type": "execute_result"
    }
   ],
   "source": [
    "filename_hdr = procDataDir+'//'+ 'WIP_T2_multiecho_UL_CLEAR' + '.hdr'\n",
    "filename_img = procDataDir+'//'+ 'WIP_T2_multiecho_UL_CLEAR' + '.img'\n",
    "hdr = nibabel.load(filename_hdr)\n",
    "img = nibabel.load(filename_img)\n",
    "    \n",
    "imageDataT2 = img.get_data()\n",
    "imageDataT2.shape\n",
    "    "
   ]
  },
  {
   "cell_type": "code",
   "execution_count": 27,
   "metadata": {},
   "outputs": [
    {
     "name": "stdout",
     "output_type": "stream",
     "text": [
      "w:/processed_data/Newcastle_test/2801LW_H_01aug2017//WIP_T2_multiecho_UL_CLEAR.hdr\n"
     ]
    }
   ],
   "source": [
    "slice_number = 0\n",
    "(numRowsT2, numColsT2, numSlicesT2, numEchoesT2) = imageDataT2.shape\n",
    "print(filename_hdr)\n"
   ]
  },
  {
   "cell_type": "code",
   "execution_count": 28,
   "metadata": {},
   "outputs": [],
   "source": [
    "# #extract header file and slice files\n",
    "# headerList = [k for k in store.keys() if 'header' in k]\n",
    "# summaryList = [k for k in store.keys() if 'summary' in k]\n",
    "imageDataT2_rot90 = np.flipud(imageDataT2.swapaxes(1,0))\n"
   ]
  },
  {
   "cell_type": "code",
   "execution_count": 29,
   "metadata": {},
   "outputs": [
    {
     "data": {
      "image/png": "[encoded data removed]",
      "text/plain": [
       "<matplotlib.figure.Figure at 0x1c656358>"
      ]
     },
     "metadata": {},
     "output_type": "display_data"
    }
   ],
   "source": [
    "plt.imshow(imageDataT2_rot90[:,:,slice_number,0])\n",
    "plt.grid()"
   ]
  },
  {
   "cell_type": "code",
   "execution_count": 30,
   "metadata": {},
   "outputs": [
    {
     "data": {
      "image/png": "[encoded data removed]",
      "text/plain": [
       "<matplotlib.figure.Figure at 0x1c694828>"
      ]
     },
     "metadata": {},
     "output_type": "display_data"
    }
   ],
   "source": [
    "# header_df = store.get(headerList[0])\n",
    "#plt.plot((imageDataT2_rot90[200,75,slice_number,:]))\n",
    "#slice number 2\n",
    "# plt.plot((imageDataT2_rot90[60,175,slice_number,:]), label='muscle')\n",
    "# plt.plot((imageDataT2_rot90[110,140,slice_number,:]), label='fat')\n",
    "# plt.plot((imageDataT2_rot90[225,225,slice_number,:]), label='noise')\n",
    "\n",
    "#slice number 0\n",
    "plt.plot((imageDataT2_rot90[75,150,slice_number,:]), label='muscle')\n",
    "plt.plot((imageDataT2_rot90[110,140,slice_number,:]), label='fat')\n",
    "plt.plot((imageDataT2_rot90[225,225,slice_number,:]), label='noise')\n",
    "plt.legend();"
   ]
  },
  {
   "cell_type": "code",
   "execution_count": 31,
   "metadata": {},
   "outputs": [
    {
     "data": {
      "image/png": "[encoded data removed]",
      "text/plain": [
       "<matplotlib.figure.Figure at 0x1c700080>"
      ]
     },
     "metadata": {},
     "output_type": "display_data"
    }
   ],
   "source": [
    "#slice number 2\n",
    "\n",
    "# plt.semilogy((imageDataT2_rot90[60,175,slice_number,:]), label='muscle')\n",
    "# plt.semilogy((imageDataT2_rot90[110,140,slice_number,:]), label='fat')\n",
    "# plt.semilogy((imageDataT2_rot90[225,225,slice_number,:]), label='noise')\n",
    "# plt.legend();\n",
    "\n",
    "\n",
    "#slice number 1\n",
    "plt.semilogy((imageDataT2_rot90[75,150,slice_number,:]), label='muscle')\n",
    "plt.semilogy((imageDataT2_rot90[110,140,slice_number,:]), label='fat')\n",
    "plt.semilogy((imageDataT2_rot90[225,225,slice_number,:]), label='noise')\n",
    "plt.legend();"
   ]
  },
  {
   "cell_type": "code",
   "execution_count": 32,
   "metadata": {},
   "outputs": [
    {
     "data": {
      "text/plain": [
       "array([912.7406441 , 864.11671329, 576.54089391, 472.34675646,\n",
       "       334.81049502, 275.07252288, 201.44199908, 169.48913026,\n",
       "       126.42222011, 104.19413745,  79.18754447,  70.85201347,\n",
       "        55.57020664,  50.01318598,  43.06691015,  33.34212399,\n",
       "        27.78510332])"
      ]
     },
     "execution_count": 32,
     "metadata": {},
     "output_type": "execute_result"
    }
   ],
   "source": [
    "imageDataT2_rot90[75,150,slice_number,:]"
   ]
  },
  {
   "cell_type": "code",
   "execution_count": 33,
   "metadata": {},
   "outputs": [
    {
     "data": {
      "text/plain": [
       "array([1318.40315259, 1450.38239336, 1260.05443561, 1158.63880849,\n",
       "       1047.4983952 ,  976.64638174,  897.45883727,  848.83490646,\n",
       "        786.31842399,  744.640769  ,  687.6813072 ,  654.33918321,\n",
       "        614.0507834 ,  589.04419041,  544.58802509,  526.52770793,\n",
       "        489.01781845])"
      ]
     },
     "execution_count": 33,
     "metadata": {},
     "output_type": "execute_result"
    }
   ],
   "source": [
    "imageDataT2_rot90[110,140,slice_number,:]"
   ]
  },
  {
   "cell_type": "code",
   "execution_count": 34,
   "metadata": {},
   "outputs": [],
   "source": [
    "N_in = 17.\n",
    "alpha_in =121.\n",
    "ESP_in = 10.24\n",
    "T1_in = 365. # T1 fat\n",
    "T2_in = 50.\n",
    "A_in = 2000."
   ]
  },
  {
   "cell_type": "code",
   "execution_count": 35,
   "metadata": {},
   "outputs": [
    {
     "data": {
      "text/plain": [
       "array([ 10.24,  20.48,  30.72,  40.96,  51.2 ,  61.44,  71.68,  81.92,\n",
       "        92.16, 102.4 , 112.64, 122.88, 133.12, 143.36, 153.6 , 163.84,\n",
       "       174.08])"
      ]
     },
     "execution_count": 35,
     "metadata": {},
     "output_type": "execute_result"
    }
   ],
   "source": [
    "xxx = np.arange(ESP_in, (N_in+1)*ESP_in, ESP_in)\n",
    "xxx"
   ]
  },
  {
   "cell_type": "code",
   "execution_count": 36,
   "metadata": {},
   "outputs": [],
   "source": [
    "#xxx1 = matlab.double(xxx)"
   ]
  },
  {
   "cell_type": "code",
   "execution_count": 37,
   "metadata": {},
   "outputs": [],
   "source": [
    "#yyy_data = imageDataT2_rot90[60,175,slice_number,:]\n",
    "#yyy_data = imageDataT2_rot90[125,30,slice_number,:]\n",
    "\n",
    "#slice 2\n",
    "yyy_fat = imageDataT2_rot90[110,140,slice_number,:]\n",
    "yyy_muscle = imageDataT2_rot90[60,175,slice_number,:]\n",
    "\n",
    "#slice 0\n",
    "yyy_fat = imageDataT2_rot90[110,140,slice_number,:]\n",
    "yyy_muscle = imageDataT2_rot90[75,150,slice_number,:]"
   ]
  },
  {
   "cell_type": "code",
   "execution_count": 38,
   "metadata": {},
   "outputs": [],
   "source": [
    "yyy_fat_norm = yyy_fat/yyy_fat.max()\n",
    "yyy_muscle_norm = yyy_muscle/yyy_muscle.max()"
   ]
  },
  {
   "cell_type": "code",
   "execution_count": 39,
   "metadata": {},
   "outputs": [
    {
     "data": {
      "text/plain": [
       "<matplotlib.legend.Legend at 0x902ea90>"
      ]
     },
     "execution_count": 39,
     "metadata": {},
     "output_type": "execute_result"
    },
    {
     "data": {
      "image/png": "[encoded data removed]",
      "text/plain": [
       "<matplotlib.figure.Figure at 0x1c712208>"
      ]
     },
     "metadata": {},
     "output_type": "display_data"
    }
   ],
   "source": [
    "plt.plot(xxx,yyy_fat_norm, label='fat')\n",
    "plt.plot(xxx,yyy_muscle_norm, label= 'muscle')\n",
    "plt.legend()"
   ]
  },
  {
   "cell_type": "code",
   "execution_count": 40,
   "metadata": {},
   "outputs": [
    {
     "data": {
      "text/plain": [
       "<matplotlib.legend.Legend at 0x1c5e5e48>"
      ]
     },
     "execution_count": 40,
     "metadata": {},
     "output_type": "execute_result"
    },
    {
     "data": {
      "image/png": "[encoded data removed]",
      "text/plain": [
       "<matplotlib.figure.Figure at 0x1c72a198>"
      ]
     },
     "metadata": {},
     "output_type": "display_data"
    }
   ],
   "source": [
    "plt.semilogy(xxx,yyy_fat_norm, 'd-', label='fat')\n",
    "plt.semilogy(xxx,yyy_muscle_norm, 'o-',label= 'muscle')\n",
    "plt.legend()"
   ]
  },
  {
   "cell_type": "code",
   "execution_count": 41,
   "metadata": {},
   "outputs": [],
   "source": [
    "def  epg_grad(FpFmZ, noadd=0):\n",
    "    if noadd == 0:\n",
    "        FpFmZ = np.concatenate((FpFmZ,np.zeros((3,1))), axis=1)\n",
    "        \n",
    "    FpFmZ[0,:] = np.roll(FpFmZ[0,:], 1)\n",
    "    FpFmZ[1,:] = np.roll(FpFmZ[1,:],-1)\n",
    "    FpFmZ[1,-1] = 0\n",
    "    FpFmZ[0,0] = np.conjugate(FpFmZ[1,0])\n",
    "    \n",
    "    return(FpFmZ)\n",
    "    \n",
    "  \n",
    "def epg_grelax( FpFmZ, T1, T2, T, kg = 0, D = 0, Gon = 1, noadd = 0):\n",
    "    \n",
    "    E1 = np.exp(-T/2.0/T1)\n",
    "    E2 = np.exp(-T/2.0/T2)\n",
    "    \n",
    "    EE = np.diag([E2, E2, E1])\n",
    "    RR = 1.0-E1\n",
    "    \n",
    "    FpFmZ = np.dot( EE, FpFmZ)\n",
    "    \n",
    "    FpFmZ[2,0] = FpFmZ[2,0]+RR\n",
    "    \n",
    "#     print(EE)\n",
    "#     print('RR=',RR)\n",
    "#     print('FpFmZ=\\n',FpFmZ[:,:4].real)\n",
    "    \n",
    "    ##Assume Gradient is on and kg >= 0\n",
    "    \n",
    "    FpFmZ = epg_grad(FpFmZ, noadd)\n",
    "    \n",
    "    \n",
    "    return(FpFmZ)\n",
    "\n",
    "\n",
    "def  epg_rf( FpFmZ, alpha, phi ):\n",
    "    \n",
    "    RR = np.zeros((3,3), dtype = np.complex128)\n",
    "    \n",
    "    RR[0,0] = np.cos(alpha/2.)**2\n",
    "    RR[0,1] = np.exp(2.0*1j*phi)*(np.sin(alpha/2.0))**2\n",
    "    RR[0,2] = -1j*np.exp(1j*phi)*np.sin(alpha)\n",
    "    \n",
    "    RR[1,0] = np.exp(-2j*phi)*(np.sin(alpha/2.0))**2\n",
    "    RR[1,1] = (np.cos(alpha/2.0))**2\n",
    "    RR[1,2] = 1j*np.exp(-1j*phi)*np.sin(alpha)\n",
    "    \n",
    "    RR[2,0] = (-1j/2.0)*np.exp(-1j*phi)*np.sin(alpha)\n",
    "    RR[2,1] = ( 1j/2.0)*np.exp( 1j*phi)*np.sin(alpha)\n",
    "    RR[2,2] = np.cos(alpha)\n",
    "    \n",
    "    FpFmZ = np.dot(RR, FpFmZ)\n",
    "    \n",
    "    return( FpFmZ, RR)\n",
    "\n",
    "\n",
    "def  rf_pulse( alpha, phi ):\n",
    "    \n",
    "    RR = np.zeros((3,3), dtype = np.complex128)\n",
    "    \n",
    "    RR[0,0] = np.cos(alpha/2.)**2\n",
    "    RR[0,1] = np.exp(2.0*1j*phi)*(np.sin(alpha/2.0))**2\n",
    "    RR[0,2] = -1j*np.exp(1j*phi)*np.sin(alpha)\n",
    "    \n",
    "    RR[1,0] = np.exp(-2j*phi)*(np.sin(alpha/2.0))**2\n",
    "    RR[1,1] = (np.cos(alpha/2.0))**2\n",
    "    RR[1,2] = 1j*np.exp(-1j*phi)*np.sin(alpha)\n",
    "    \n",
    "    RR[2,0] = (-1j/2.0)*np.exp(-1j*phi)*np.sin(alpha)\n",
    "    RR[2,1] = ( 1j/2.0)*np.exp( 1j*phi)*np.sin(alpha)\n",
    "    RR[2,2] = np.cos(alpha)\n",
    "    \n",
    "    return(RR)\n",
    "\n",
    "\n",
    "def cpmg_epg_py( Nechos=17, rf_180=120.0, T1=3000.0, T2=50.0, Techo=10.0 ):\n",
    "\t\n",
    "\n",
    "    P = np.zeros((3,2*Nechos),dtype=np.complex128)\n",
    "    \n",
    "    P[0,0] = 0.0  # Fp\n",
    "    P[1,0] = 0.0  # Fm\n",
    "    P[2,0] = 1.0  # Z\n",
    "    \n",
    "    signal = np.zeros(Nechos)\n",
    "    \n",
    "    rf_pulse90_rad = np.pi*rf_180/360.\n",
    "    \n",
    "    rf_pulse_rad = np.pi*rf_180/180.\n",
    "    \n",
    "    RR90  = rf_pulse(rf_pulse90_rad, np.pi/2.0)\n",
    "    RR180 = rf_pulse(rf_pulse_rad,   0.0)\n",
    "    \n",
    "    P = np.dot(RR90,P)\n",
    "    #signal[0] = P[0,0].real\n",
    "    \n",
    "    for echo in range(Nechos):\n",
    "        P = epg_grelax( P, T1, T2, Techo)\n",
    "        P = np.dot(RR180,P)\n",
    "        P = epg_grelax( P, T1, T2, Techo)\n",
    "        \n",
    "        signal[echo] = (P[0,0].real)\n",
    "        \n",
    "    return(signal)"
   ]
  },
  {
   "cell_type": "code",
   "execution_count": 44,
   "metadata": {},
   "outputs": [],
   "source": [
    "def fit_cpmg_epg_muscle_philips_hargreaves_c( params,  xxx,  dx, p90_array, p180_array, yyy_exp=None):\n",
    "    \n",
    "    parvals  = params.valuesdict()\n",
    "    \n",
    "\n",
    "    \n",
    "    T1fat    = parvals[ 'T1fat' ]      # fixed\n",
    "    T1muscle = parvals[ 'T1muscle' ]      # fixed\n",
    "    echo     = parvals[ 'echo' ]     # fixed\n",
    "    T2fat    = parvals[ 'T2fat' ]     # fixed/optimized\n",
    "    T2muscle = parvals['T2muscle']       # optimized\n",
    "    Afat     = parvals[ 'Afat']       # optimized\n",
    "    Amuscle = parvals['Amuscle']        # optimized\n",
    "    B1scale = parvals['B1scale']        # optimized\n",
    "    \n",
    "    Nechos = len(xxx)\n",
    "    Ngauss = len(p90_array)\n",
    "    \n",
    "    signal        = np.zeros([Ngauss,Nechos])\n",
    "    fat_signal    = np.zeros(Nechos)\n",
    "    muscle_signal = np.zeros(Nechos)\n",
    "    \n",
    "    for i,(p90,p180) in enumerate(zip(p90_array,p180_array)):\n",
    "\n",
    "        cpmg_epg_b1_c( fat_signal,    p90, p180, T1fat,    T2fat,    echo, B1scale )\n",
    "        cpmg_epg_b1_c( muscle_signal, p90, p180, T1muscle, T2muscle, echo, B1scale )\n",
    "        \n",
    "        signal[i] = Afat*fat_signal+Amuscle*muscle_signal\n",
    "        \n",
    "    int_signal = integrate.simps(signal, dx=dx,axis=0)\n",
    "    if isinstance(yyy_exp, np.ndarray):   \n",
    "        return( int_signal-yyy_exp)\n",
    "    else:\n",
    "        return(int_signal) "
   ]
  },
  {
   "cell_type": "markdown",
   "metadata": {},
   "source": [
    "### Analyze muscle"
   ]
  },
  {
   "cell_type": "code",
   "execution_count": 45,
   "metadata": {},
   "outputs": [],
   "source": [
    "signal = np.zeros([21,17])\n",
    "signal1 = np.zeros(17)\n",
    "signal2 = np.zeros(17)"
   ]
  },
  {
   "cell_type": "code",
   "execution_count": 46,
   "metadata": {},
   "outputs": [
    {
     "data": {
      "image/png": "[encoded data removed]",
      "text/plain": [
       "<matplotlib.figure.Figure at 0x1d7edfd0>"
      ]
     },
     "metadata": {},
     "output_type": "display_data"
    }
   ],
   "source": [
    "signal_c = np.zeros(17)\n",
    "cpmg_epg_b1_c( signal_c, 80.0,120.0, 3000, 35.0, 10., 1.0)\n",
    "plt.plot(xxx,signal_c, label='c');\n",
    "plt.legend();"
   ]
  },
  {
   "cell_type": "code",
   "execution_count": 49,
   "metadata": {},
   "outputs": [],
   "source": [
    "params = lm.Parameters()\n",
    "params.add('T2fat',    value = 180.0, min=0, max=5000, vary=True)\n",
    "params.add('T2muscle', value = 35,    min=0, max=100,  vary=True )\n",
    "params.add('Afat',     value = 0.01,   min=0, max=10,   vary=True )\n",
    "params.add('Amuscle',  value = 0.1,   min=0, max=10,   vary=True )\n",
    "params.add('T1fat',    value = 365.0,                  vary=False)\n",
    "params.add('T1muscle', value = 1400,                   vary=False)\n",
    "params.add('echo',     value = 10.0,                   vary=False)\n",
    "params.add('B1scale',  value = 1.0,    min=0, max=2.0, vary=True)\n",
    "\n",
    "yyy_guess_integral_c  = fit_cpmg_epg_muscle_philips_hargreaves_c( params,  xxx,  dx, p90, p180)"
   ]
  },
  {
   "cell_type": "code",
   "execution_count": 50,
   "metadata": {},
   "outputs": [
    {
     "data": {
      "image/png": "[encoded data removed]",
      "text/plain": [
       "<matplotlib.figure.Figure at 0x1b983470>"
      ]
     },
     "metadata": {},
     "output_type": "display_data"
    }
   ],
   "source": [
    "plt.plot(xxx, yyy_guess_integral_c, label='c');\n",
    "plt.legend();"
   ]
  },
  {
   "cell_type": "code",
   "execution_count": 51,
   "metadata": {},
   "outputs": [
    {
     "data": {
      "text/plain": [
       "array([ 10.24,  20.48,  30.72,  40.96,  51.2 ,  61.44,  71.68,  81.92,\n",
       "        92.16, 102.4 , 112.64, 122.88, 133.12, 143.36, 153.6 , 163.84,\n",
       "       174.08])"
      ]
     },
     "execution_count": 51,
     "metadata": {},
     "output_type": "execute_result"
    }
   ],
   "source": [
    "xxx"
   ]
  },
  {
   "cell_type": "code",
   "execution_count": 52,
   "metadata": {},
   "outputs": [
    {
     "name": "stdout",
     "output_type": "stream",
     "text": [
      "0.0710000991821289\n",
      "[[Variables]]\n",
      "    T2fat:      1559.75277 +/- 3.67e+04 (2354.84%) (init= 180)\n",
      "    T2muscle:   31.1914056 +/- 1.851685 (5.94%) (init= 35)\n",
      "    Afat:       0.00216817 +/- 0.004997 (230.51%) (init= 0.01)\n",
      "    Amuscle:    0.15794456 +/- 0.004774 (3.02%) (init= 0.1)\n",
      "    T1fat:      365 (fixed)\n",
      "    T1muscle:   1400 (fixed)\n",
      "    echo:       10 (fixed)\n",
      "    B1scale:    0.92373431 +/- 0.018740 (2.03%) (init= 1)\n",
      "[[Correlations]] (unreported correlations are <  0.100)\n",
      "    C(T2fat, Afat)               = -0.993 \n",
      "    C(T2muscle, Afat)            = -0.937 \n",
      "    C(T2fat, T2muscle)           =  0.905 \n",
      "    C(Amuscle, B1scale)          = -0.650 \n",
      "    C(T2fat, Amuscle)            =  0.488 \n",
      "    C(T2muscle, B1scale)         =  0.472 \n",
      "    C(Afat, Amuscle)             = -0.456 \n",
      "    C(Afat, B1scale)             = -0.273 \n",
      "    C(T2fat, B1scale)            =  0.252 \n",
      "    C(T2muscle, Amuscle)         =  0.161 \n"
     ]
    }
   ],
   "source": [
    "# params = lm.Parameters()\n",
    "# params.add('b1_scale',   value= 1.0,  min=0, max=5.0, vary=True)\n",
    "# params.add('T2fat', value = 180.0, min=0, max=1000, vary=True)\n",
    "# params.add('T2muscle', value = 35, min=0, max=100, vary=True)\n",
    "# params.add('Afat', value = 1.0,  min=0, max=10, vary=True)\n",
    "# params.add('Amuscle', value = 3,  min=0, max=10, vary=True)\n",
    "# params.add('T1fat', value = 365.0, vary=False)\n",
    "# params.add('T1muscle', value = 1400, vary=False)\n",
    "# params.add('echo', value = 10.0, vary=False)\n",
    "\n",
    "#xxx = np.arange(Techo, Techo*(et1+1))\n",
    "yyy_data = yyy_muscle_norm\n",
    "minner  = lm.Minimizer(fit_cpmg_epg_muscle_philips_hargreaves_c, params, fcn_args=( xxx, dx, p90, p180, yyy_data))\n",
    "\n",
    "yyy_guess_integral = fit_cpmg_epg_muscle_philips_hargreaves_c( params,  xxx, dx, p90, p180) \n",
    "\n",
    "t_start = time.time()\n",
    "result = minner.minimize()\n",
    "t_end = time.time()\n",
    "yyy_fit_integral = fit_cpmg_epg_muscle_philips_hargreaves_c( result.params,  xxx, dx, p90, p180) \n",
    "\n",
    "time_c = t_end-t_start\n",
    "print(time_c)\n",
    "\n",
    "lm.report_fit(result.params)"
   ]
  },
  {
   "cell_type": "code",
   "execution_count": 53,
   "metadata": {},
   "outputs": [
    {
     "data": {
      "image/png": "[encoded data removed]",
      "text/plain": [
       "<matplotlib.figure.Figure at 0x1ba49860>"
      ]
     },
     "metadata": {},
     "output_type": "display_data"
    }
   ],
   "source": [
    "plt.plot(xxx,yyy_data,           'o', label='expt');\n",
    "plt.plot(xxx,yyy_guess_integral, '-', label='guess');\n",
    "plt.plot(xxx,yyy_fit_integral,   '-', label='fit');\n",
    "plt.title('Muscle $T_2$')\n",
    "plt.xlabel('time [ms]');\n",
    "plt.legend();"
   ]
  },
  {
   "cell_type": "code",
   "execution_count": 54,
   "metadata": {},
   "outputs": [
    {
     "data": {
      "image/png": "[encoded data removed]",
      "text/plain": [
       "<matplotlib.figure.Figure at 0x1badb358>"
      ]
     },
     "metadata": {},
     "output_type": "display_data"
    }
   ],
   "source": [
    "plt.semilogy(xxx,yyy_data,           'o', label='expt' );\n",
    "plt.semilogy(xxx,yyy_guess_integral, '-', label='guess');\n",
    "plt.semilogy(xxx,yyy_fit_integral,   '-', label='fit'  );\n",
    "plt.title('Muscle $T_2$')\n",
    "plt.xlabel('time [ms]');\n",
    "plt.legend();"
   ]
  },
  {
   "cell_type": "code",
   "execution_count": 55,
   "metadata": {},
   "outputs": [
    {
     "data": {
      "text/plain": [
       "['RoiSet_UL_slice0.zip',\n",
       " 'RoiSet_UL_slice1.zip',\n",
       " 'RoiSet_UL_slice2.zip',\n",
       " 'RoiSet_UL_slice3.zip',\n",
       " 'RoiSet_UL_slice4.zip']"
      ]
     },
     "execution_count": 55,
     "metadata": {},
     "output_type": "execute_result"
    }
   ],
   "source": [
    "roiList"
   ]
  },
  {
   "cell_type": "code",
   "execution_count": 56,
   "metadata": {},
   "outputs": [],
   "source": [
    "roi_filename = 'RoiSet_UL_slice' + str(slice_number) +'.zip'"
   ]
  },
  {
   "cell_type": "code",
   "execution_count": 57,
   "metadata": {},
   "outputs": [
    {
     "name": "stdout",
     "output_type": "stream",
     "text": [
      "slice_num slice0\n"
     ]
    }
   ],
   "source": [
    "startpos = roi_filename.rfind(\"slice\")\n",
    "slice_num = roi_filename[startpos:startpos+len(\"slice\")+1]\n",
    "print('slice_num', slice_num)"
   ]
  },
  {
   "cell_type": "code",
   "execution_count": 58,
   "metadata": {},
   "outputs": [
    {
     "name": "stdout",
     "output_type": "stream",
     "text": [
      "[('VL_s0_vastus_lateralis.roi', ('polygon', array([[ 63, 132],\n",
      "       [ 71, 130],\n",
      "       [ 80, 141],\n",
      "       [ 84, 156],\n",
      "       [ 98, 168],\n",
      "       [106, 172],\n",
      "       [113, 177],\n",
      "       [119, 182],\n",
      "       [118, 187],\n",
      "       [113, 192],\n",
      "       [104, 190],\n",
      "       [ 82, 173],\n",
      "       [ 73, 161],\n",
      "       [ 67, 151],\n",
      "       [ 63, 141]], dtype=int16))), ('BL_s0_biceps_femoris.roi', ('polygon', array([[189, 143],\n",
      "       [188, 154],\n",
      "       [190, 166],\n",
      "       [190, 167],\n",
      "       [197, 164],\n",
      "       [200, 155],\n",
      "       [202, 147],\n",
      "       [202, 140],\n",
      "       [197, 138],\n",
      "       [191, 137]], dtype=int16)))]\n"
     ]
    }
   ],
   "source": [
    "roi_set = ijroi.read_roi_zip(procDataDir+'//'+roi_filename)\n",
    "print(roi_set)"
   ]
  },
  {
   "cell_type": "code",
   "execution_count": 59,
   "metadata": {},
   "outputs": [
    {
     "name": "stdout",
     "output_type": "stream",
     "text": [
      "roiName:  VL_s0_vastus_lateralis.roi roiShape:  polygon\n",
      "VL\n",
      "VL [ 63  63  63 ... 118 118 118] [132 133 134 ... 184 185 186]\n",
      "roiName:  BL_s0_biceps_femoris.roi roiShape:  polygon\n",
      "BL\n",
      "BL [189 189 189 189 189 189 189 189 189 189 189 189 189 189 189 189 189 190\n",
      " 190 190 190 190 190 190 190 190 190 190 190 190 190 190 190 190 190 190\n",
      " 190 190 190 190 190 190 190 190 191 191 191 191 191 191 191 191 191 191\n",
      " 191 191 191 191 191 191 191 191 191 191 191 191 191 191 191 191 191 191\n",
      " 191 191 192 192 192 192 192 192 192 192 192 192 192 192 192 192 192 192\n",
      " 192 192 192 192 192 192 192 192 192 192 192 192 192 193 193 193 193 193\n",
      " 193 193 193 193 193 193 193 193 193 193 193 193 193 193 193 193 193 193\n",
      " 193 193 193 193 193 194 194 194 194 194 194 194 194 194 194 194 194 194\n",
      " 194 194 194 194 194 194 194 194 194 194 194 194 194 194 194 195 195 195\n",
      " 195 195 195 195 195 195 195 195 195 195 195 195 195 195 195 195 195 195\n",
      " 195 195 195 195 195 195 196 196 196 196 196 196 196 196 196 196 196 196\n",
      " 196 196 196 196 196 196 196 196 196 196 196 196 196 196 196 197 197 197\n",
      " 197 197 197 197 197 197 197 197 197 197 197 197 197 197 197 197 197 197\n",
      " 197 197 197 197 197 198 198 198 198 198 198 198 198 198 198 198 198 198\n",
      " 198 198 198 198 198 198 198 198 198 199 199 199 199 199 199 199 199 199\n",
      " 199 199 199 199 199 199 199 199 199 199 200 200 200 200 200 200 200 200\n",
      " 200 200 200 200 200 200 200 201 201 201 201 201 201 201 201 201 201 201] [143 144 145 146 147 148 149 150 151 152 153 154 155 156 157 158 159 140\n",
      " 141 142 143 144 145 146 147 148 149 150 151 152 153 154 155 156 157 158\n",
      " 159 160 161 162 163 164 165 166 137 138 139 140 141 142 143 144 145 146\n",
      " 147 148 149 150 151 152 153 154 155 156 157 158 159 160 161 162 163 164\n",
      " 165 166 138 139 140 141 142 143 144 145 146 147 148 149 150 151 152 153\n",
      " 154 155 156 157 158 159 160 161 162 163 164 165 166 138 139 140 141 142\n",
      " 143 144 145 146 147 148 149 150 151 152 153 154 155 156 157 158 159 160\n",
      " 161 162 163 164 165 138 139 140 141 142 143 144 145 146 147 148 149 150\n",
      " 151 152 153 154 155 156 157 158 159 160 161 162 163 164 165 138 139 140\n",
      " 141 142 143 144 145 146 147 148 149 150 151 152 153 154 155 156 157 158\n",
      " 159 160 161 162 163 164 138 139 140 141 142 143 144 145 146 147 148 149\n",
      " 150 151 152 153 154 155 156 157 158 159 160 161 162 163 164 138 139 140\n",
      " 141 142 143 144 145 146 147 148 149 150 151 152 153 154 155 156 157 158\n",
      " 159 160 161 162 163 139 140 141 142 143 144 145 146 147 148 149 150 151\n",
      " 152 153 154 155 156 157 158 159 160 139 140 141 142 143 144 145 146 147\n",
      " 148 149 150 151 152 153 154 155 156 157 140 141 142 143 144 145 146 147\n",
      " 148 149 150 151 152 153 154 140 141 142 143 144 145 146 147 148 149 150]\n"
     ]
    }
   ],
   "source": [
    "img = np.zeros((numRowsT2,numColsT2), dtype=bool)\n",
    "roi_coords = {}\n",
    "for roi in roi_set:\n",
    "    (roiName,(roiShape,coords))=roi\n",
    "    print(\"roiName: \", roiName,\"roiShape: \",roiShape)\n",
    "    \n",
    "    roi_code = (roiName.split('_'))[0]\n",
    "    \n",
    "    print( roi_code)\n",
    "    \n",
    "    if roiShape == 'polygon':        \n",
    "        coords=coords.transpose()\n",
    "        xxxc = coords[0]\n",
    "        yyyc = coords[1]\n",
    "        (rr,cc) = polygon(xxxc,yyyc)\n",
    "        print(roi_code,rr,cc)\n",
    "        roi_coords[roi_code] = np.array([rr,cc])\n",
    "        img[rr, cc] = True\n",
    "        #roi_x = img_index[img.flatten()]\n",
    "\n",
    "    elif roiShape == 'rect':        \n",
    "        coords=coords.transpose()\n",
    "        xxxc = coords[0]\n",
    "        yyyc = coords[1]\n",
    "        (rr,cc) = polygon(xxxc,yyyc)\n",
    "        print(roi_code,rr,cc)\n",
    "        roi_coords[roi_code] = np.array([rr,cc])\n",
    "        img[rr, cc] = True\n",
    "        #roi_x = img_index[img.flatten()]\n",
    "\n",
    "    elif roiShape == 'oval':\n",
    "        xc = coords[0][0]\n",
    "        yc = coords[0][1]\n",
    "        xr = coords[1][0]\n",
    "        yr = coords[1][1]\n",
    "        (rr,cc) = ellipse(yc,xc,yr,xr)\n",
    "        roi_coords[roi_code] = np.array([rr,cc])\n",
    "        img[rr, cc] = True\n",
    "        print(roi_code,rr,cc)\n",
    "    "
   ]
  },
  {
   "cell_type": "code",
   "execution_count": 60,
   "metadata": {},
   "outputs": [
    {
     "name": "stdout",
     "output_type": "stream",
     "text": [
      "67.3899998664856\n"
     ]
    }
   ],
   "source": [
    "params = lm.Parameters()\n",
    "params.add('T2fat',    value = 180.0, min=0, max=5000, vary=False)\n",
    "params.add('T2muscle', value = 35,    min=0, max=100,  vary=True )\n",
    "params.add('Afat',     value = 0.01,  min=0, max=10,   vary=True )\n",
    "params.add('Amuscle',  value = 0.1,   min=0, max=10,   vary=True )\n",
    "params.add('T1fat',    value = 365.0,                  vary=False)\n",
    "params.add('T1muscle', value = 1400,                   vary=False)\n",
    "params.add('echo',     value = 10.0,                   vary=False)\n",
    "params.add('B1scale',  value = 1.0,    min=0, max=2.0, vary=True)\n",
    "\n",
    "T2epg_results = {}\n",
    "\n",
    "T2epg_results['slice'          ] = []\n",
    "T2epg_results['roi'            ] = []\n",
    "T2epg_results['pixelIndex'     ] = []\n",
    "T2epg_results['T2fat_value'    ] = []\n",
    "T2epg_results['T2fat_stderr'   ] = []\n",
    "T2epg_results['T2muscle_value' ] = []\n",
    "T2epg_results['T2muscle_stderr'] = []\n",
    "T2epg_results['Afat_value'     ] = []\n",
    "T2epg_results['Afat_stderr'    ] = []\n",
    "T2epg_results['Amuscle_value'  ] = []\n",
    "T2epg_results['Amuscle_stderr' ] = []\n",
    "T2epg_results['T1muscle_value' ] = []\n",
    "T2epg_results['T1fat_value'    ] = []\n",
    "T2epg_results['B1scale_value'  ] = []\n",
    "T2epg_results['B1scale_stderr' ] = []\n",
    "\n",
    "t_start=time.time()\n",
    "\n",
    "for roi_key, roi_rowcol in roi_coords.items():\n",
    "    for r,c in roi_rowcol.T:\n",
    "        #print(r,  end=' ')\n",
    "        \n",
    "        yyy_data = imageDataT2_rot90[r,c,slice_number,:]\n",
    "        yyy_data = yyy_data/yyy_data.max()\n",
    "        minner = lm.Minimizer(fit_cpmg_epg_muscle_philips_hargreaves_c, params, fcn_args=( xxx,dx,  p90, p180, yyy_data))\n",
    "        results = minner.minimize()\n",
    "\n",
    "        if results.success:\n",
    "            T2epg_results['slice'          ].append(slice_number)\n",
    "            T2epg_results['roi'            ].append(roi_key)\n",
    "            T2epg_results['pixelIndex'     ].append(r*numColsT2+c)\n",
    "            T2epg_results['T2fat_value'    ].append(results.params['T2fat'    ].value )\n",
    "            T2epg_results['T2fat_stderr'   ].append(results.params['T2fat'    ].stderr)\n",
    "            T2epg_results['T2muscle_value' ].append(results.params['T2muscle' ].value )\n",
    "            T2epg_results['T2muscle_stderr'].append(results.params['T2muscle' ].stderr)\n",
    "            T2epg_results['Afat_value'     ].append(results.params['Afat'     ].value )\n",
    "            T2epg_results['Afat_stderr'    ].append(results.params['Afat'     ].stderr)\n",
    "            T2epg_results['Amuscle_value'  ].append(results.params['Amuscle'  ].value )\n",
    "            T2epg_results['Amuscle_stderr' ].append(results.params['Amuscle'  ].stderr)\n",
    "            T2epg_results['B1scale_value'  ].append(results.params['B1scale'  ].value )\n",
    "            T2epg_results['B1scale_stderr' ].append(results.params['B1scale'  ].stderr)\n",
    "            T2epg_results['T1muscle_value' ].append(results.params['T1muscle' ].value )\n",
    "            T2epg_results['T1fat_value'    ].append(results.params['T1fat'    ].value )\n",
    "            \n",
    "\n",
    "t_end = time.time()        \n",
    "time_c = t_end-t_start\n",
    "print (time_c)      "
   ]
  },
  {
   "cell_type": "code",
   "execution_count": 61,
   "metadata": {},
   "outputs": [],
   "source": [
    "T2epg_df = pd.DataFrame(T2epg_results)"
   ]
  },
  {
   "cell_type": "code",
   "execution_count": 62,
   "metadata": {},
   "outputs": [
    {
     "data": {
      "text/plain": [
       "Index(['Afat_stderr', 'Afat_value', 'Amuscle_stderr', 'Amuscle_value',\n",
       "       'B1scale_stderr', 'B1scale_value', 'T1fat_value', 'T1muscle_value',\n",
       "       'T2fat_stderr', 'T2fat_value', 'T2muscle_stderr', 'T2muscle_value',\n",
       "       'pixelIndex', 'roi', 'slice'],\n",
       "      dtype='object')"
      ]
     },
     "execution_count": 62,
     "metadata": {},
     "output_type": "execute_result"
    }
   ],
   "source": [
    "T2epg_df.columns"
   ]
  },
  {
   "cell_type": "code",
   "execution_count": 63,
   "metadata": {},
   "outputs": [
    {
     "data": {
      "image/png": "[encoded data removed]",
      "text/plain": [
       "<matplotlib.figure.Figure at 0x1bb07438>"
      ]
     },
     "metadata": {},
     "output_type": "display_data"
    }
   ],
   "source": [
    "fig, axes = plt.subplots(nrows=1, ncols=1)\n",
    "\n",
    "axes.hist(T2epg_df['T2muscle_value'], bins=100, label='$T_2$ muscle');\n",
    "#axes.set_xlim(0,200);\n",
    "#axes[1].hist(epg_vals[:,4], bins=100, label='T2f2');\n",
    "axes.set_xlabel('$T_2$ [ms]');\n",
    "#axes[1].set_xlabel('$T_2$ [ms]');\n",
    "axes.legend();\n",
    "#axes[1].legend();\n",
    "#plt.savefig('png_images/muscle_T2.png');"
   ]
  },
  {
   "cell_type": "code",
   "execution_count": 64,
   "metadata": {},
   "outputs": [
    {
     "data": {
      "image/png": "[encoded data removed]",
      "text/plain": [
       "<matplotlib.figure.Figure at 0x1bd82828>"
      ]
     },
     "metadata": {},
     "output_type": "display_data"
    }
   ],
   "source": [
    "fig, axes = plt.subplots(nrows=1, ncols=1)\n",
    "\n",
    "axes.hist(T2epg_df['B1scale_value'], bins=100, label='$B_1$ scale');\n",
    "#axes.set_xlim(0,200);\n",
    "#axes[1].hist(epg_vals[:,4], bins=100, label='T2f2');\n",
    "axes.set_xlabel('$B_1$ scale');\n",
    "#axes[1].set_xlabel('$T_2$ [ms]');\n",
    "axes.legend();\n",
    "#axes[1].legend();\n",
    "#plt.savefig('png_images/muscle_T2.png');"
   ]
  },
  {
   "cell_type": "code",
   "execution_count": 65,
   "metadata": {},
   "outputs": [
    {
     "data": {
      "text/plain": [
       "<matplotlib.legend.Legend at 0x1d80bfd0>"
      ]
     },
     "execution_count": 65,
     "metadata": {},
     "output_type": "execute_result"
    },
    {
     "data": {
      "image/png": "[encoded data removed]",
      "text/plain": [
       "<matplotlib.figure.Figure at 0x1c06f518>"
      ]
     },
     "metadata": {},
     "output_type": "display_data"
    }
   ],
   "source": [
    "fig, axes = plt.subplots(nrows=1, ncols=2, figsize=(15, 4))\n",
    "\n",
    "Am0 = T2epg_df['Amuscle_value']*100/(T2epg_df['Amuscle_value']+T2epg_df['Afat_value'])\n",
    "Af0 = 100-Am0\n",
    "\n",
    "T2epg_df['Am100']=Am0\n",
    "T2epg_df['Af100']=Af0\n",
    "\n",
    "axes[0].hist(Af0,  bins=100, label='fat');\n",
    "axes[1].hist(Am0,  bins=100, label='muscle');\n",
    "#axes[2].hist(epg_vals[:,3], color='green', bins=100, label='af3');\n",
    "axes[0].set_xlabel('% amount');\n",
    "axes[1].set_xlabel('% amount');\n",
    "#axes[2].set_xlabel('amount');\n",
    "axes[0].legend()\n",
    "axes[1].legend()\n",
    "#axes[2].legend()\n",
    "#plt.savefig('png_images/muscle_amount.png');"
   ]
  },
  {
   "cell_type": "code",
   "execution_count": 66,
   "metadata": {},
   "outputs": [],
   "source": [
    "t2muscle_image = np.zeros((numRowsT2*numColsT2))\n",
    "B1scale_image = np.zeros((numRowsT2*numColsT2))\n",
    "t2fat_image    = np.zeros((numRowsT2*numColsT2))\n",
    "Amuscle_image  = np.zeros((numRowsT2*numColsT2))\n",
    "Afat_image     = np.zeros((numRowsT2*numColsT2))"
   ]
  },
  {
   "cell_type": "code",
   "execution_count": 73,
   "metadata": {},
   "outputs": [
    {
     "data": {
      "text/plain": [
       "<matplotlib.colorbar.Colorbar at 0x1e182a90>"
      ]
     },
     "execution_count": 73,
     "metadata": {},
     "output_type": "execute_result"
    },
    {
     "data": {
      "image/png": "[encoded data removed]",
      "text/plain": [
       "<matplotlib.figure.Figure at 0x1c06f8d0>"
      ]
     },
     "metadata": {},
     "output_type": "display_data"
    }
   ],
   "source": [
    "t2muscle_image[T2epg_df['pixelIndex']] =T2epg_df['T2muscle_value']\n",
    "B1scale_image[T2epg_df['pixelIndex']] =T2epg_df['B1scale_value']\n",
    "t2fat_image[T2epg_df['pixelIndex']] =T2epg_df['T2fat_value']\n",
    "Amuscle_image[T2epg_df['pixelIndex']] =T2epg_df['Am100']\n",
    "\n",
    "fig, ax = plt.subplots(nrows=1, ncols=3, figsize=(15, 4))\n",
    "hb0 =ax[0].imshow(t2muscle_image.reshape(256,256));\n",
    "ax[0].set_title('$T_2$ Muscle Data');\n",
    "#ax[0].colorbar();\n",
    "\n",
    "# hb1=ax[1].imshow(t2fat_image.reshape(256,256));\n",
    "# ax[1].set_title('$T_2$ Fat Data');\n",
    "\n",
    "hb2=ax[2].imshow(Amuscle_image.reshape(256,256));\n",
    "ax[2].set_title('% Muscle Data');\n",
    "\n",
    "hb3=ax[1].imshow(B1scale_image.reshape(256,256));\n",
    "ax[1].set_title('B$_1$ scale  Data');\n",
    "\n",
    "fig.colorbar(hb0, ax=ax[0])\n",
    "#fig.colorbar(hb1, ax=ax[1])\n",
    "fig.colorbar(hb2, ax=ax[2])\n",
    "fig.colorbar(hb3, ax=ax[1])"
   ]
  },
  {
   "cell_type": "code",
   "execution_count": 69,
   "metadata": {},
   "outputs": [
    {
     "data": {
      "text/plain": [
       "31.191405674908207"
      ]
     },
     "execution_count": 69,
     "metadata": {},
     "output_type": "execute_result"
    }
   ],
   "source": [
    "result.params['T2muscle'].value"
   ]
  },
  {
   "cell_type": "code",
   "execution_count": null,
   "metadata": {},
   "outputs": [],
   "source": []
  },
  {
   "cell_type": "code",
   "execution_count": null,
   "metadata": {},
   "outputs": [],
   "source": []
  },
  {
   "cell_type": "code",
   "execution_count": null,
   "metadata": {},
   "outputs": [],
   "source": []
  }
 ],
 "metadata": {
  "kernelspec": {
   "display_name": "Python 3",
   "language": "python",
   "name": "python3"
  },
  "language_info": {
   "codemirror_mode": {
    "name": "ipython",
    "version": 3
   },
   "file_extension": ".py",
   "mimetype": "text/x-python",
   "name": "python",
   "nbconvert_exporter": "python",
   "pygments_lexer": "ipython3",
   "version": "3.6.3"
  },
  "latex_envs": {
   "LaTeX_envs_menu_present": true,
   "autocomplete": true,
   "bibliofile": "biblio.bib",
   "cite_by": "apalike",
   "current_citInitial": 1,
   "eqLabelWithNumbers": true,
   "eqNumInitial": 1,
   "hotkeys": {
    "equation": "Ctrl-E",
    "itemize": "Ctrl-I"
   },
   "labels_anchors": false,
   "latex_user_defs": false,
   "report_style_numbering": false,
   "user_envs_cfg": false
  }
 },
 "nbformat": 4,
 "nbformat_minor": 1
}
